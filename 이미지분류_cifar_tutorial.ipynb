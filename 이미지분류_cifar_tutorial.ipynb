{
  "nbformat": 4,
  "nbformat_minor": 0,
  "metadata": {
    "colab": {
      "provenance": [],
      "gpuType": "T4",
      "authorship_tag": "ABX9TyMxonHLWC+LKHhMikPIYpvo",
      "include_colab_link": true
    },
    "kernelspec": {
      "name": "python3",
      "display_name": "Python 3"
    },
    "language_info": {
      "name": "python"
    },
    "accelerator": "GPU"
  },
  "cells": [
    {
      "cell_type": "markdown",
      "metadata": {
        "id": "view-in-github",
        "colab_type": "text"
      },
      "source": [
        "<a href=\"https://colab.research.google.com/github/yee030/image_cifar_tutorial/blob/main/%EC%9D%B4%EB%AF%B8%EC%A7%80%EB%B6%84%EB%A5%98_cifar_tutorial.ipynb\" target=\"_parent\"><img src=\"https://colab.research.google.com/assets/colab-badge.svg\" alt=\"Open In Colab\"/></a>"
      ]
    },
    {
      "cell_type": "code",
      "execution_count": null,
      "metadata": {
        "id": "qXJgysNuwWYS"
      },
      "outputs": [],
      "source": [
        "# For tips on running notebooks in Google Colab, see\n",
        "# https://pytorch.org/tutorials/beginner/colab\n",
        "%matplotlib inline"
      ]
    },
    {
      "cell_type": "code",
      "source": [
        "import torch\n",
        "import torchvision\n",
        "import torchvision.transforms as transforms"
      ],
      "metadata": {
        "id": "wi6QQ6KIwsdY"
      },
      "execution_count": null,
      "outputs": []
    },
    {
      "cell_type": "code",
      "source": [
        "# 데이터 변환을 정의. 이미지를 PyTorch 텐서로 변환하고, 각 채널에 대해 평균이 0.5이고 표준 편차가 0.5가 되도록 이미지를 정규화.\n",
        "transform = transforms.Compose(\n",
        "    [transforms.ToTensor(),  # 이미지를 PyTorch 텐서로 변환\n",
        "     transforms.Normalize((0.5, 0.5, 0.5), (0.5, 0.5, 0.5))])  # 이미지를 정규화\n",
        "\n",
        "batch_size = 4  # 훈련 및 테스트 데이터를 미니배치로 나눌 때 사용할 배치 크기를 정의.\n",
        "\n",
        "# CIFAR10 훈련 데이터셋을 로드하고 정의한 데이터 변환(transform)을 적용.\n",
        "trainset = torchvision.datasets.CIFAR10(root='./data', train=True,\n",
        "                                        download=True, transform=transform)\n",
        "# 훈련 데이터를 미니배치로 나누고 섞어주기. 또한 병렬 처리를 위해 여러 작업자(num_workers)를 사용하기.\n",
        "trainloader = torch.utils.data.DataLoader(trainset, batch_size=batch_size,\n",
        "                                          shuffle=True, num_workers=2)\n",
        "\n",
        "# CIFAR10 테스트 데이터셋을 로드하고 정의한 데이터 변환(transform)을 적용하기.\n",
        "testset = torchvision.datasets.CIFAR10(root='./data', train=False,\n",
        "                                       download=True, transform=transform)\n",
        "# 테스트 데이터를 미니배치로 나누고 섞지 않기. 병렬 처리를 위해 여러 작업자(num_workers)를 사용하기.\n",
        "testloader = torch.utils.data.DataLoader(testset, batch_size=batch_size,\n",
        "                                         shuffle=False, num_workers=2)\n",
        "\n",
        "# CIFAR10 데이터셋의 클래스 레이블을 정의하기.\n",
        "classes = ('비행기', '자동차', '새', '고양이',\n",
        "           '사슴', '개', '개구리', '말', '배', '트럭')\n"
      ],
      "metadata": {
        "colab": {
          "base_uri": "https://localhost:8080/"
        },
        "id": "yQ0Q-c6fx7tQ",
        "outputId": "d946d6ef-4a2a-40a1-dd9e-6d9709e394ba"
      },
      "execution_count": null,
      "outputs": [
        {
          "output_type": "stream",
          "name": "stdout",
          "text": [
            "Downloading https://www.cs.toronto.edu/~kriz/cifar-10-python.tar.gz to ./data/cifar-10-python.tar.gz\n"
          ]
        },
        {
          "output_type": "stream",
          "name": "stderr",
          "text": [
            "100%|██████████| 170498071/170498071 [00:03<00:00, 43564546.35it/s]\n"
          ]
        },
        {
          "output_type": "stream",
          "name": "stdout",
          "text": [
            "Extracting ./data/cifar-10-python.tar.gz to ./data\n",
            "Files already downloaded and verified\n"
          ]
        }
      ]
    },
    {
      "cell_type": "code",
      "source": [
        "import matplotlib.pyplot as plt\n",
        "import numpy as np\n",
        "\n",
        "# 이미지를 표시하는 함수 정의\n",
        "\n",
        "def imshow(img):\n",
        "    img = img / 2 + 0.5  # 이미지를 언노멀라이즈 (픽셀 값 범위를 [0, 1]에서 [-1, 1]로 변환)\n",
        "    npimg = img.numpy()  # PyTorch 텐서를 NumPy 배열로 변환\n",
        "    plt.imshow(np.transpose(npimg, (1, 2, 0)))  # 이미지를 표시하기 위해 채널 순서를 변환하고 플로팅\n",
        "    plt.show()\n",
        "\n",
        "# 무작위 훈련 이미지 가져오기\n",
        "dataiter = iter(trainloader)\n",
        "images, labels = next(dataiter)\n",
        "\n",
        "# 이미지 표시\n",
        "imshow(torchvision.utils.make_grid(images))  # 이미지 그리드를 생성하고 표시\n",
        "# 레이블 출력\n",
        "print(' '.join(f'{classes[labels[j]]:5s}' for j in range(batch_size)))  # 이미지에 대한 클래스 레이블 출력\n"
      ],
      "metadata": {
        "colab": {
          "base_uri": "https://localhost:8080/",
          "height": 211
        },
        "id": "C2EiGhV3x7wW",
        "outputId": "4f404041-df74-46c4-ec61-5b31aa07cd4c"
      },
      "execution_count": null,
      "outputs": [
        {
          "output_type": "display_data",
          "data": {
            "text/plain": [
              "<Figure size 640x480 with 1 Axes>"
            ],
            "image/png": "[encoded data removed]"
          },
          "metadata": {}
        },
        {
          "output_type": "stream",
          "name": "stdout",
          "text": [
            "새     새     자동차   배    \n"
          ]
        }
      ]
    },
    {
      "cell_type": "code",
      "source": [
        "import torch.nn as nn\n",
        "import torch.nn.functional as F\n",
        "\n",
        "# 신경망 아키텍처를 정의하는 클래스 생성\n",
        "class Net(nn.Module):\n",
        "    def __init__(self):\n",
        "        super().__init__()\n",
        "        # Convolutional Layer 1: 입력 채널 3 (RGB 이미지), 출력 채널 6, 커널 크기 5x5\n",
        "        self.conv1 = nn.Conv2d(3, 6, 5)\n",
        "        # Max Pooling Layer: 최대 풀링, 커널 크기 2x2\n",
        "        self.pool = nn.MaxPool2d(2, 2)\n",
        "        # Convolutional Layer 2: 입력 채널 6, 출력 채널 16, 커널 크기 5x5\n",
        "        self.conv2 = nn.Conv2d(6, 16, 5)\n",
        "        # Fully Connected Layer 1: 입력 크기 16x5x5, 출력 크기 120\n",
        "        self.fc1 = nn.Linear(16 * 5 * 5, 120)\n",
        "        # Fully Connected Layer 2: 입력 크기 120, 출력 크기 84\n",
        "        self.fc2 = nn.Linear(120, 84)\n",
        "        # Fully Connected Layer 3 (Output Layer): 입력 크기 84, 출력 크기 10 (클래스 수)\n",
        "        self.fc3 = nn.Linear(84, 10)\n",
        "\n",
        "    def forward(self, x):\n",
        "        # 입력 데이터를 통해 순전파 수행\n",
        "        x = self.pool(F.relu(self.conv1(x)))  # Conv1 -> ReLU -> Max Pooling\n",
        "        x = self.pool(F.relu(self.conv2(x)))  # Conv2 -> ReLU -> Max Pooling\n",
        "        x = torch.flatten(x, 1)  # Flatten: 다차원 데이터를 1차원으로 펼침 (배치를 제외한 모든 차원)\n",
        "        x = F.relu(self.fc1(x))  # FC1 -> ReLU\n",
        "        x = F.relu(self.fc2(x))  # FC2 -> ReLU\n",
        "        x = self.fc3(x)  # FC3 (Output Layer)\n",
        "        return x\n",
        "\n",
        "# Net 클래스의 인스턴스 생성 (신경망 모델)\n",
        "net = Net()\n"
      ],
      "metadata": {
        "id": "0YT6db83y1Zg"
      },
      "execution_count": null,
      "outputs": []
    },
    {
      "cell_type": "code",
      "source": [
        "import torch.optim as optim\n",
        "\n",
        "# 손실 함수 (Loss Function) 정의: 크로스 엔트로피 손실 (Cross-Entropy Loss)\n",
        "criterion = nn.CrossEntropyLoss()\n",
        "\n",
        "# 최적화 알고리즘 선택: 확률적 경사 하강법 (Stochastic Gradient Descent, SGD)\n",
        "# net.parameters()로 모델의 가중치 및 편향을 전달하고, 학습률(learning rate) 및 모멘텀(momentum) 값을 설정\n",
        "optimizer = optim.SGD(net.parameters(), lr=0.001, momentum=0.9)\n"
      ],
      "metadata": {
        "id": "XNu2DIk_yulp"
      },
      "execution_count": null,
      "outputs": []
    },
    {
      "cell_type": "code",
      "source": [
        "# 데이터셋을 여러 번 반복하여 훈련하는 루프 (에폭(epoch) 수행)\n",
        "for epoch in range(2):  # 데이터셋을 2번 반복하여 훈련합니다. (임의의 에폭 수)\n",
        "\n",
        "    running_loss = 0.0  # 현재 에폭에서의 손실을 저장하는 변수\n",
        "    for i, data in enumerate(trainloader, 0):\n",
        "        # 데이터를 가져옵니다. data는 [입력, 레이블]의 리스트입니다.\n",
        "        inputs, labels = data\n",
        "\n",
        "        # 기울기를 초기화합니다. (이전 미분 값 초기화)\n",
        "        optimizer.zero_grad()\n",
        "\n",
        "        # 순전파 + 역전파 + 최적화\n",
        "        outputs = net(inputs)  # 신경망에 입력 데이터를 전달하여 출력을 얻습니다.\n",
        "        loss = criterion(outputs, labels)  # 예측과 실제 레이블 간의 손실을 계산합니다.\n",
        "        loss.backward()  # 역전파: 손실에 대한 기울기를 계산하여 역전파합니다.\n",
        "        optimizer.step()  # 최적화: 가중치 및 편향을 업데이트하여 손실을 최소화합니다.\n",
        "\n",
        "        # 통계 정보 출력\n",
        "        running_loss += loss.item()  # 현재 미니배치의 손실을 누적합니다.\n",
        "        if i % 2000 == 1999:  # 매 2000 미니배치마다 손실을 출력합니다.\n",
        "            print(f'[{epoch + 1}, {i + 1:5d}] loss: {running_loss / 2000:.3f}')\n",
        "            running_loss = 0.0\n",
        "\n",
        "# 훈련 종료 메시지 출력\n",
        "print('Finished Training')\n"
      ],
      "metadata": {
        "colab": {
          "base_uri": "https://localhost:8080/"
        },
        "id": "PxQEPBqUzCNJ",
        "outputId": "10143590-fddd-4c8c-adb3-e7500014e3cb"
      },
      "execution_count": null,
      "outputs": [
        {
          "output_type": "stream",
          "name": "stdout",
          "text": [
            "[1,  2000] loss: 2.236\n",
            "[1,  4000] loss: 1.881\n",
            "[1,  6000] loss: 1.698\n",
            "[1,  8000] loss: 1.570\n",
            "[1, 10000] loss: 1.519\n",
            "[1, 12000] loss: 1.439\n",
            "[2,  2000] loss: 1.377\n",
            "[2,  4000] loss: 1.342\n",
            "[2,  6000] loss: 1.356\n",
            "[2,  8000] loss: 1.323\n",
            "[2, 10000] loss: 1.307\n",
            "[2, 12000] loss: 1.301\n",
            "Finished Training\n"
          ]
        }
      ]
    },
    {
      "cell_type": "code",
      "source": [
        "# 모델 가중치 및 설정을 저장할 파일 경로를 정의합니다.\n",
        "PATH = './cifar_net.pth'\n",
        "\n",
        "# 모델의 상태 사전을 파일로 저장합니다.\n",
        "torch.save(net.state_dict(), PATH)\n"
      ],
      "metadata": {
        "id": "MGnpgJn5zhNR"
      },
      "execution_count": null,
      "outputs": []
    },
    {
      "cell_type": "code",
      "source": [
        "# 테스트 데이터 로더에서 무작위로 미니배치를 가져옵니다.\n",
        "dataiter = iter(testloader)\n",
        "images, labels = next(dataiter)\n",
        "\n",
        "# 이미지를 표시합니다.\n",
        "imshow(torchvision.utils.make_grid(images))  # 이미지 그리드를 생성하고 표시합니다.\n",
        "\n",
        "# 실제 레이블을 출력합니다.\n",
        "print('GroundTruth: ', ' '.join(f'{classes[labels[j]]:5s}' for j in range(4)))\n"
      ],
      "metadata": {
        "colab": {
          "base_uri": "https://localhost:8080/",
          "height": 211
        },
        "id": "SZMUcfODzjsm",
        "outputId": "7a370466-9b6a-4c94-d5ff-12b288773cd7"
      },
      "execution_count": null,
      "outputs": [
        {
          "output_type": "display_data",
          "data": {
            "text/plain": [
              "<Figure size 640x480 with 1 Axes>"
            ],
            "image/png": "[encoded data removed]"
          },
          "metadata": {}
        },
        {
          "output_type": "stream",
          "name": "stdout",
          "text": [
            "GroundTruth:  고양이   배     배     비행기  \n"
          ]
        }
      ]
    },
    {
      "cell_type": "code",
      "source": [
        "# 새로운 신경망 모델을 인스턴스화합니다.\n",
        "net = Net()\n",
        "\n",
        "# 미리 저장된 모델의 가중치와 설정을 로드합니다.\n",
        "net.load_state_dict(torch.load(PATH))\n"
      ],
      "metadata": {
        "colab": {
          "base_uri": "https://localhost:8080/"
        },
        "id": "pmeLsC8izlx4",
        "outputId": "85450bca-f9f4-40d5-eefa-5db6f8e04ec6"
      },
      "execution_count": null,
      "outputs": [
        {
          "output_type": "execute_result",
          "data": {
            "text/plain": [
              "<All keys matched successfully>"
            ]
          },
          "metadata": {},
          "execution_count": 11
        }
      ]
    },
    {
      "cell_type": "code",
      "source": [
        "# 신경망에 입력 데이터를 전달하여 예측을 생성합니다.\n",
        "outputs = net(images)\n"
      ],
      "metadata": {
        "id": "gZAb4G-W0LqP"
      },
      "execution_count": null,
      "outputs": []
    },
    {
      "cell_type": "code",
      "source": [
        "# 모델의 출력에서 가장 높은 값(가장 확률이 높은 클래스)과 해당 클래스의 인덱스를 찾습니다.\n",
        "_, predicted = torch.max(outputs, 1)\n",
        "\n",
        "# 예측된 클래스 레이블을 출력합니다.\n",
        "print('Predicted: ', ' '.join(f'{classes[predicted[j]]:5s}'\n",
        "                              for j in range(4)))\n"
      ],
      "metadata": {
        "colab": {
          "base_uri": "https://localhost:8080/"
        },
        "id": "cETdGu_G0NpQ",
        "outputId": "28b5b066-2611-4fae-88cc-37fb8636f4aa"
      },
      "execution_count": null,
      "outputs": [
        {
          "output_type": "stream",
          "name": "stdout",
          "text": [
            "Predicted:  고양이   자동차   자동차   비행기  \n"
          ]
        }
      ]
    },
    {
      "cell_type": "code",
      "source": [
        "correct = 0  # 올바르게 분류된 예측 수를 저장하는 변수\n",
        "total = 0    # 전체 데이터 포인트 수를 저장하는 변수\n",
        "\n",
        "# 모델을 훈련하지 않기 때문에 출력의 기울기를 계산할 필요가 없습니다.\n",
        "with torch.no_grad():\n",
        "    for data in testloader:\n",
        "        images, labels = data\n",
        "        # 네트워크를 통해 이미지를 전달하여 출력 계산\n",
        "        outputs = net(images)\n",
        "        # 에너지(출력 값)가 가장 높은 클래스를 예측값으로 선택합니다.\n",
        "        _, predicted = torch.max(outputs.data, 1)\n",
        "        total += labels.size(0)  # 전체 데이터 포인트 수를 누적\n",
        "        # 정확하게 예측한 경우 올바르게 분류된 예측 수를 누적\n",
        "        correct += (predicted == labels).sum().item()\n",
        "\n",
        "# 네트워크의 정확도를 계산하고 출력합니다.\n",
        "accuracy = 100 * correct // total  # 정확하게 분류된 예측의 비율을 백분율로 계산\n",
        "print(f'Accuracy of the network on the 10000 test images: {accuracy} %')\n"
      ],
      "metadata": {
        "colab": {
          "base_uri": "https://localhost:8080/"
        },
        "id": "CwrSIy7W0Pb4",
        "outputId": "de0ba708-5dbc-4b50-82cd-063aa9da315d"
      },
      "execution_count": null,
      "outputs": [
        {
          "output_type": "stream",
          "name": "stdout",
          "text": [
            "Accuracy of the network on the 10000 test images: 54 %\n"
          ]
        }
      ]
    },
    {
      "cell_type": "code",
      "source": [
        "# 각 클래스에 대한 예측을 카운트할 변수들을 준비합니다.\n",
        "correct_pred = {classname: 0 for classname in classes}  # 각 클래스별로 올바르게 예측한 수를 저장\n",
        "total_pred = {classname: 0 for classname in classes}   # 각 클래스별로 전체 예측 수를 저장\n",
        "\n",
        "# 다시 한 번 기울기(그래디언트)를 필요로 하지 않습니다.\n",
        "with torch.no_grad():\n",
        "    for data in testloader:\n",
        "        images, labels = data\n",
        "        outputs = net(images)\n",
        "        _, predictions = torch.max(outputs, 1)\n",
        "        # 각 클래스에 대한 정확한 예측을 수집합니다.\n",
        "        for label, prediction in zip(labels, predictions):\n",
        "            if label == prediction:\n",
        "                correct_pred[classes[label]] += 1\n",
        "            total_pred[classes[label]] += 1\n",
        "\n",
        "# 각 클래스별 정확도를 출력합니다.\n",
        "for classname, correct_count in correct_pred.items():\n",
        "    accuracy = 100 * float(correct_count) / total_pred[classname]\n",
        "    print(f'Accuracy for class: {classname:5s} is {accuracy:.1f} %')\n"
      ],
      "metadata": {
        "colab": {
          "base_uri": "https://localhost:8080/"
        },
        "id": "0PhAqZa-0RKZ",
        "outputId": "b37c78cd-35da-41de-ef7c-f51860cbf4e3"
      },
      "execution_count": null,
      "outputs": [
        {
          "output_type": "stream",
          "name": "stdout",
          "text": [
            "Accuracy for class: 비행기   is 73.0 %\n",
            "Accuracy for class: 자동차   is 66.2 %\n",
            "Accuracy for class: 새     is 38.7 %\n",
            "Accuracy for class: 고양이   is 28.2 %\n",
            "Accuracy for class: 사슴    is 49.0 %\n",
            "Accuracy for class: 개     is 44.2 %\n",
            "Accuracy for class: 개구리   is 78.1 %\n",
            "Accuracy for class: 말     is 45.4 %\n",
            "Accuracy for class: 배     is 51.1 %\n",
            "Accuracy for class: 트럭    is 70.2 %\n"
          ]
        }
      ]
    },
    {
      "cell_type": "code",
      "source": [
        "# 사용 가능한 경우 CUDA 장치를 사용하고, 그렇지 않은 경우 CPU를 사용합니다.\n",
        "device = torch.device('cuda:0' if torch.cuda.is_available() else 'cpu')\n",
        "\n",
        "# 만약 CUDA 장치가 사용 가능한 경우, 'cuda:0'와 같은 CUDA 디바이스를 출력합니다.\n",
        "print(device)\n"
      ],
      "metadata": {
        "colab": {
          "base_uri": "https://localhost:8080/"
        },
        "id": "fVMYpNDM0lsR",
        "outputId": "00ae094f-9262-416c-9efd-1acbf97c6ac1"
      },
      "execution_count": null,
      "outputs": [
        {
          "output_type": "stream",
          "name": "stdout",
          "text": [
            "cpu\n"
          ]
        }
      ]
    },
    {
      "cell_type": "code",
      "source": [
        "del dataiter"
      ],
      "metadata": {
        "id": "KvmoiX7j0pgA"
      },
      "execution_count": null,
      "outputs": []
    }
  ]
}